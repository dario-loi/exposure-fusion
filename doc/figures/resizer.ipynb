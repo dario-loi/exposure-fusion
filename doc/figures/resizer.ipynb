{
 "cells": [
  {
   "cell_type": "code",
   "execution_count": 1,
   "metadata": {},
   "outputs": [],
   "source": [
    "import cv2"
   ]
  },
  {
   "cell_type": "code",
   "execution_count": 2,
   "metadata": {},
   "outputs": [],
   "source": [
    "import os "
   ]
  },
  {
   "cell_type": "code",
   "execution_count": 10,
   "metadata": {},
   "outputs": [
    {
     "data": {
      "text/plain": [
       "['crusader_ours.png',\n",
       " 'crusader_standard.png',\n",
       " 'out_1.png',\n",
       " 'out_2.png',\n",
       " 'resizer.ipynb',\n",
       " 'test_1.png',\n",
       " 'test_2.png',\n",
       " 'test_2_1.png',\n",
       " 'test_2_2.png',\n",
       " 'test_2_3.png',\n",
       " 'test_2_4.png',\n",
       " 'test_2_5.png',\n",
       " 'test_3.png',\n",
       " 'test_4.png',\n",
       " 'test_5.png']"
      ]
     },
     "execution_count": 10,
     "metadata": {},
     "output_type": "execute_result"
    }
   ],
   "source": [
    "# scan all files in the folder to a list\n",
    "\n",
    "def scan_files(path):\n",
    "    files = []\n",
    "    for file in os.listdir(path):\n",
    "        if os.path.isfile(os.path.join(path, file)):\n",
    "            files.append(file)\n",
    "    return files\n",
    "\n",
    "files = scan_files(os.getcwd())\n",
    "\n"
   ]
  },
  {
   "cell_type": "code",
   "execution_count": 12,
   "metadata": {},
   "outputs": [
    {
     "data": {
      "text/plain": [
       "['crusader_ours.png',\n",
       " 'crusader_standard.png',\n",
       " 'out_1.png',\n",
       " 'out_2.png',\n",
       " 'test_1.png',\n",
       " 'test_2.png',\n",
       " 'test_2_1.png',\n",
       " 'test_2_2.png',\n",
       " 'test_2_3.png',\n",
       " 'test_2_4.png',\n",
       " 'test_2_5.png',\n",
       " 'test_3.png',\n",
       " 'test_4.png',\n",
       " 'test_5.png']"
      ]
     },
     "execution_count": 12,
     "metadata": {},
     "output_type": "execute_result"
    }
   ],
   "source": [
    "import re\n",
    "\n",
    "# filter the list to only include files without the .ipynb extension\n",
    "\n",
    "def filter_files(files):\n",
    "    filtered_files = []\n",
    "    for file in files:\n",
    "        if not re.search(r'.ipynb', file):\n",
    "            filtered_files.append(file)\n",
    "    return filtered_files\n",
    "\n",
    "filtered_files = filter_files(files)\n",
    "\n",
    "\n",
    "filtered_files"
   ]
  },
  {
   "cell_type": "code",
   "execution_count": 15,
   "metadata": {},
   "outputs": [
    {
     "name": "stdout",
     "output_type": "stream",
     "text": [
      "d:\\Documents\\Cdev\\threads\\CGProj-Loi-Gezzi\\presentation\\figures\\crusader_ours.png\n",
      "d:\\Documents\\Cdev\\threads\\CGProj-Loi-Gezzi\\presentation\\figures\\crusader_standard.png\n",
      "d:\\Documents\\Cdev\\threads\\CGProj-Loi-Gezzi\\presentation\\figures\\out_1.png\n",
      "d:\\Documents\\Cdev\\threads\\CGProj-Loi-Gezzi\\presentation\\figures\\out_2.png\n",
      "d:\\Documents\\Cdev\\threads\\CGProj-Loi-Gezzi\\presentation\\figures\\test_1.png\n",
      "d:\\Documents\\Cdev\\threads\\CGProj-Loi-Gezzi\\presentation\\figures\\test_2.png\n",
      "d:\\Documents\\Cdev\\threads\\CGProj-Loi-Gezzi\\presentation\\figures\\test_2_1.png\n",
      "d:\\Documents\\Cdev\\threads\\CGProj-Loi-Gezzi\\presentation\\figures\\test_2_2.png\n",
      "d:\\Documents\\Cdev\\threads\\CGProj-Loi-Gezzi\\presentation\\figures\\test_2_3.png\n",
      "d:\\Documents\\Cdev\\threads\\CGProj-Loi-Gezzi\\presentation\\figures\\test_2_4.png\n",
      "d:\\Documents\\Cdev\\threads\\CGProj-Loi-Gezzi\\presentation\\figures\\test_2_5.png\n",
      "d:\\Documents\\Cdev\\threads\\CGProj-Loi-Gezzi\\presentation\\figures\\test_3.png\n",
      "d:\\Documents\\Cdev\\threads\\CGProj-Loi-Gezzi\\presentation\\figures\\test_4.png\n",
      "d:\\Documents\\Cdev\\threads\\CGProj-Loi-Gezzi\\presentation\\figures\\test_5.png\n"
     ]
    }
   ],
   "source": [
    "for img_name in filtered_files:\n",
    "    \n",
    "    path = os.getcwd()\n",
    "    \n",
    "    img_name = os.path.join(path, img_name)\n",
    "    \n",
    "    print(img_name)\n",
    "    img = cv2.imread(img_name)\n",
    "    \n",
    "    img = cv2.resize(img, (img.shape[1]//4, img.shape[0]//4))\n",
    "    \n",
    "    cv2.imwrite(img_name, img)\n",
    "\n",
    "    \n"
   ]
  },
  {
   "cell_type": "code",
   "execution_count": null,
   "metadata": {},
   "outputs": [],
   "source": []
  }
 ],
 "metadata": {
  "kernelspec": {
   "display_name": "base",
   "language": "python",
   "name": "python3"
  },
  "language_info": {
   "codemirror_mode": {
    "name": "ipython",
    "version": 3
   },
   "file_extension": ".py",
   "mimetype": "text/x-python",
   "name": "python",
   "nbconvert_exporter": "python",
   "pygments_lexer": "ipython3",
   "version": "3.8.8"
  },
  "orig_nbformat": 4,
  "vscode": {
   "interpreter": {
    "hash": "91f6a04488c6f6c893277af113acfe6c1e243656720881e8cb90c9c6953cd34f"
   }
  }
 },
 "nbformat": 4,
 "nbformat_minor": 2
}
